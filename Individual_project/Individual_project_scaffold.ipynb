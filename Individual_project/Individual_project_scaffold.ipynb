{
  "cells": [
    {
      "cell_type": "markdown",
      "metadata": {
        "id": "Ii50tOXueCVS"
      },
      "source": [
        "# Individual Assignment\n",
        "\n",
        "The goal of the individual assignment is to look at preprocessed data, perform simple first-level analysis and assess the quality of the model fit.\n",
        "\n",
        "We will use the \"NYU Slow Flanker\" dataset from [OpenNeuro](https://openneuro.org/datasets/ds000102/versions/00001). In this study, 26 healthy adults underwent MRI scanning while performing an event-related Eriksen Flanker task.\n",
        "\n"
      ]
    },
    {
      "cell_type": "markdown",
      "metadata": {
        "id": "QjMc9hxPF5FN"
      },
      "source": [
        "## Setting up the environment\n",
        "\n",
        "- Create directory\n",
        "- Download data\n",
        "\n",
        "Note: If your runtime gets disconnected, you have to rerun the cell."
      ]
    },
    {
      "cell_type": "code",
      "execution_count": null,
      "metadata": {
        "id": "1xLKy2jBGe7r"
      },
      "outputs": [],
      "source": [
        "# Install nilearn and nipype
        "!pip install nilearn
        "!pip install nipype

        "# Create directory for our dataset
        "!mkdir /data\n",
        "\n",
        "# Download dataset\n",
        "!gdown 1-1kwTBLBRUcrUi-lMFLk7OdjGjPvUE8N\n",
        "!unzip /content/ds000102_tewa.zip -d /data\n",
        "\n",
        "# Download mni-atlas\n",
        "!mkdir /data/standard\n",
        "!gdown --id 1lytUR8CJkcvGIdhndoLjKCUloKl80iCG\n",
        "!unzip /content/mniatlas.zip -d /data/standard"
      ]
    },
    {
      "cell_type": "markdown",
      "metadata": {
        "id": "BzdT7kliGkVp"
      },
      "source": [
        "## Setup experiment parameter"
      ]
    },
    {
      "cell_type": "code",
      "execution_count": null,
      "metadata": {
        "id": "wmDL0tn9mZ_B"
      },
      "outputs": [],
      "source": [
        "# set paths for experiment dir, working dir and output dir\n",
        "\n",
        "# define the ID of your subject\n",
        "\n",
        "# define variables for number of slices, tr and ta"
      ]
    },
    {
      "cell_type": "code",
      "execution_count": null,
      "metadata": {
        "id": "o_qrcXxWmW7j"
      },
      "outputs": [],
      "source": [
        "# Import necessary packages and modules"
      ]
    },
    {
      "cell_type": "markdown",
      "metadata": {
        "id": "DPFzV0ln_GML"
      },
      "source": [
        "## Sanity checks"
      ]
    },
    {
      "cell_type": "markdown",
      "metadata": {
        "id": "3apOXTJDtGQh"
      },
      "source": [
        "### Normalization\n",
        "\n",
        "Visualize normalization results by overlaying raw and normalized files with the MNI125 template mask you can download from Nilearn. Also plot a MNI template with the MNI125 template mask - the template can be found in `data/standard/MNI152_T1_2mm_brain.nii.gz`"
      ]
    },
    {
      "cell_type": "code",
      "source": [
        "# plot raw functional files with MNI template mask\n",
        "\n",
        "# plot normalized functional files with MNI template mask\n",
        "\n",
        "# plot MNI template with MNI template mask"
      ],
      "metadata": {
        "id": "fSVdyve5NPXA"
      },
      "execution_count": null,
      "outputs": []
    },
    {
      "cell_type": "code",
      "source": [
        "# plot raw anatomical files with MNI template mask\n",
        "\n",
        "# plot normalized anatomical files with MNI template mask"
      ],
      "metadata": {
        "id": "vEUGduZ0TzUK"
      },
      "execution_count": null,
      "outputs": []
    },
    {
      "cell_type": "markdown",
      "source": [
        "### Motion Parameters\n",
        "\n",
        "To recap the lecture, there are six motion parameters: 3 corresponding to translation (in x, y, z direction, respectively) and 3 corresponding to rotation (pitch, roll, yaw, respectively). We can access the estimates of these parameters for each volume by loading the .par file. The first three columns pertain to translation, the last three columns pertain to rotation.\n",
        "\n",
        "Your task is to plot these motion parameters. Your result should look something like the plots shown in the lecture - you should have one plot for translation and one for rotation. Tip: Use `matplotlib.pyplot` for plotting and `numpy.loadtxt` to load the .par file.\n",
        "\n",
        "Then, look at the plots. What do they tell you?"
      ],
      "metadata": {
        "id": "1MXkEpw3Zlxp"
      }
    },
    {
      "cell_type": "code",
      "source": [
        "# Load the .par file"
      ],
      "metadata": {
        "id": "DqDkP4f3bam-"
      },
      "execution_count": null,
      "outputs": []
    },
    {
      "cell_type": "code",
      "source": [
        "# Plot the motion parameters\n"
      ],
      "metadata": {
        "id": "gVusIUijbPb2"
      },
      "execution_count": null,
      "outputs": []
    },
    {
      "cell_type": "markdown",
      "metadata": {
        "id": "4-t6KSCI2F2K"
      },
      "source": [
        "## First-level analysis: t-Test\n",
        "\n",
        "Using the preprocessed files, perform a first-level analysis. The steps are:\n",
        "\n",
        "- Setup Model (using Nilearn's ```FirstLevelModel```)\n",
        "\n",
        "- Fit the model to the data\n",
        "  - use the events file stored in the data directory\n",
        "  - use the motion parameters as additional regressors\n",
        "  \n",
        "  \n",
        "- Plot the design matrix\n",
        "- Define the contrasts\n",
        "  - congruent_correct > baseline\n",
        "  - incongruent_correct > baseline\n",
        "  - incongruent-congruent\n",
        "  - congruent-incongruent\n",
        "  - motion parameters > baseline\n",
        "- Calculate a z-statistics map for each contrast\n",
        "- Plot the z-statistics maps (using the subject's preprocessed anatomical image as background)\n"
      ]
    },
    {
      "cell_type": "code",
      "source": [
        "# Fit the model\n"
      ],
      "metadata": {
        "id": "S_7FBP8h3gK8"
      },
      "execution_count": null,
      "outputs": []
    },
    {
      "cell_type": "code",
      "source": [
        "# Plot the design matrix\n"
      ],
      "metadata": {
        "id": "rkXcM2w-3iAW"
      },
      "execution_count": null,
      "outputs": []
    },
    {
      "cell_type": "code",
      "source": [
        "# Define contrasts\n"
      ],
      "metadata": {
        "id": "CwOvHNgh3kYI"
      },
      "execution_count": null,
      "outputs": []
    },
    {
      "cell_type": "code",
      "source": [
        "# Calculate z-maps\n"
      ],
      "metadata": {
        "id": "nLxNxrNZ3muG"
      },
      "execution_count": null,
      "outputs": []
    },
    {
      "cell_type": "code",
      "source": [
        "# Plot z-maps\n"
      ],
      "metadata": {
        "id": "PGmtC68B3q21"
      },
      "execution_count": null,
      "outputs": []
    },
    {
      "cell_type": "markdown",
      "metadata": {
        "id": "8tAYr_cQNsZu"
      },
      "source": [
        "# First Level Analysis: F-Test\n",
        "\n",
        "Another popular type of test is an F-test in which one seeks whether a certain combination of conditions explains a significant proportion of the signal. Here, one might for instance test which voxels are well explained by the combination of the incongruent and congruent conditions. While we did not talk about it in class, you will be able to apply the same principles you learned from doing the t-test.\n",
        "\n",
        "For this F-test, the steps are:\n",
        "\n",
        "- Use the same model you used for the t-Test, you don't need to set up a new one\n",
        "\n",
        "- Define the contrast. To check whether you defined it correctly, plot the contrast and compare below for how it should look. As you can see, the arrays used to define the contrast need to be combined (\"stacked\"). To stack the arrays, you can use [`numpy.vstack()`](https://numpy.org/doc/stable/reference/generated/numpy.vstack.html).\n",
        "  \n",
        "- Calculate a z-statistics map for this contrast\n",
        "- Plot the z-statistics maps (using the subject's preprocessed anatomical image as background)\n"
      ]
    },
    {
      "cell_type": "code",
      "source": [
        "# Define contrast\n"
      ],
      "metadata": {
        "id": "KRX_uauH3emR"
      },
      "execution_count": null,
      "outputs": []
    },
    {
      "cell_type": "code",
      "source": [
        "# Plot contrast (image below should result)\n"
      ],
      "metadata": {
        "colab": {
          "base_uri": "https://localhost:8080/",
          "height": 298
        },
        "id": "n2p7w6eFzc5I",
        "outputId": "effc3e66-c66b-4651-86c5-7b7fbd5c1ecd"
      },
      "execution_count": null,
      "outputs": [
        {
          "output_type": "display_data",
          "data": {
            "text/plain": [
              "<Figure size 640x320 with 1 Axes>"
            ],
            "image/png": "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\n"
          },
          "metadata": {}
        }
      ]
    },
    {
      "cell_type": "code",
      "source": [
        "# Calculate z-maps\n"
      ],
      "metadata": {
        "id": "ig-fqZYU34Cb"
      },
      "execution_count": null,
      "outputs": []
    },
    {
      "cell_type": "code",
      "source": [
        "# Plot z-maps\n"
      ],
      "metadata": {
        "id": "6lkB_Sv339ti"
      },
      "execution_count": null,
      "outputs": []
    },
    {
      "cell_type": "markdown",
      "source": [
        "## The Model Fit\n",
        "\n",
        "To determine whether a linear model is appropriate in modeling the given data, one can inspect the residuals of the model. We are able to access these residuals as long as we set `minimize_memory` is to `False` when instantiating our model.\n",
        "\n",
        "Inspect the residuals of the three largest clusters of your \"congruent-correct\" contrast using the following steps:\n",
        "\n",
        "- Extract the three largest clusters\n",
        "- Get residuals from your fitted model\n",
        "- Plot the residuals\n",
        "\n",
        "\n",
        "As we did not talk about this in class, you can use this link to find any information needed: https://nilearn.github.io/dev/auto_examples/04_glm_first_level/plot_predictions_residuals.html#sphx-glr-auto-examples-04-glm-first-level-plot-predictions-residuals-py\n",
        "\n",
        "\n",
        "\n",
        "If there are no clusters above your threshold, choose an arbitrary lower threshold so you can still plot residuals."
      ],
      "metadata": {
        "id": "ensuycR4gDi_"
      }
    },
    {
      "cell_type": "code",
      "source": [
        "# Extract three largest clusters"
      ],
      "metadata": {
        "id": "9kbnkFcvisWd"
      },
      "execution_count": null,
      "outputs": []
    },
    {
      "cell_type": "code",
      "source": [
        "# Get residuals"
      ],
      "metadata": {
        "id": "BH8B9D4uisd5"
      },
      "execution_count": null,
      "outputs": []
    },
    {
      "cell_type": "code",
      "source": [
        "# Plot the residuals"
      ],
      "metadata": {
        "id": "mvcsakhPisl1"
      },
      "execution_count": null,
      "outputs": []
    }
  ],
  "metadata": {
    "colab": {
      "provenance": []
    },
    "kernelspec": {
      "display_name": "Python 3.8.5 ('base')",
      "language": "python",
      "name": "python3"
    },
    "language_info": {
      "name": "python",
      "version": "3.8.5"
    },
    "vscode": {
      "interpreter": {
        "hash": "38918c03f5e50da0883dd5b0b10b29c968b274fb52fc312fcc1e11a6fe51f463"
      }
    }
  },
  "nbformat": 4,
  "nbformat_minor": 0
}
