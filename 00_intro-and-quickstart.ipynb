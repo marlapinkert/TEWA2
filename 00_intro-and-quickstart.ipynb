{
  "nbformat": 4,
  "nbformat_minor": 0,
  "metadata": {
    "colab": {
      "provenance": []
    },
    "kernelspec": {
      "name": "python3",
      "display_name": "Python 3"
    },
    "language_info": {
      "name": "python"
    }
  },
  "cells": [
    {
      "cell_type": "markdown",
      "metadata": {
        "id": "6_2hD41HKqGw"
      },
      "source": [
        "# Colab Intro and Nipy quickstart\n",
        "\n",
        "In this notebook, we will have a look at Google Colab and do our first steps within the [Nipy](https://nipy.org) ecosystem.\n",
        "\n",
        "*Note that the notebooks of this course were developed to be primarily used within Google Colab (ensuring equal computing environments for every student). You can also run the notebooks on your local machine, however, some commands - like ```apt-get``` - are Linux-specific and won't work on Windows or MacOS.*"
      ]
    },
    {
      "cell_type": "markdown",
      "metadata": {
        "id": "viVdSPSMRkEw"
      },
      "source": [
        "## Setup directory structure\n",
        "\n",
        "It's alway good to have a consistent [directory](https://andysbrainbook.readthedocs.io/en/latest/unix/Unix_01_Navigation.html) (or: folder) structure. This will help us to keep things organized and know where to look for files. In Colab, we can create new directories by using the [command line](https://en.wikipedia.org/wiki/Command-line_interface) (also called [\"shell\"](https://en.wikipedia.org/wiki/Shell_(computing)#Command-line_shells), \"terminal\" etc.). We can access the command line in a jupyter notebook by suffixing either ```!``` or ```%```.\n",
        "\n",
        "Let's create a new directory for our data using the [Linux](https://tldp.org/LDP/intro-linux/html/chap_01.html) (or: [UNIX](https://tldp.org/LDP/intro-linux/html/sect_01_01.html#sect_01_01_01)) command ```mkdir```:\n"
      ]
    },
    {
      "cell_type": "code",
      "execution_count": 1,
      "metadata": {
        "id": "rDIzvX3eRilp"
      },
      "outputs": [],
      "source": [
        "!mkdir /data"
      ]
    },
    {
      "cell_type": "markdown",
      "metadata": {
        "id": "KlkY15_1HmVu"
      },
      "source": [
        "Check Colab's file browser whether a new directory has been created.\n",
        "\n",
        "\n",
        "As you will see throughout the course, we can make use of different Linux commands within Colab (for exampling for copying or compressing data). In fact, Colab runs on [Ubuntu](https://en.wikipedia.org/wiki/Ubuntu) - a GNU/Linux distribution. Thus, it makes sense to get used to the [Linux file system](https://tldp.org/LDP/intro-linux/html/sect_03_01.html) as well as to [running commands from a Unix-style shell](https://linuxjourney.com/lesson/the-shell)."
      ]
    },
    {
      "cell_type": "markdown",
      "metadata": {
        "id": "oRSmr-i9Tb98"
      },
      "source": [
        "Now, let's install some [packages](https://docs.python.org/3/tutorial/modules.html#packages) (by using ```pip``` via the command line) and download a test dataset (via ```gdown``` which is already installed in Colab)"
      ]
    },
    {
      "cell_type": "code",
      "execution_count": null,
      "metadata": {
        "id": "P19P0Pa4Kkgk"
      },
      "outputs": [],
      "source": [
        "# install nilearn\n",
        "!pip install nilearn\n",
        "\n",
        "# download dataset\n",
        "!gdown --id 1jREp9F13CGM1XF20qczKreUPdGoJP_76\n",
        "!unzip /content/ds000114.zip -d /data"
      ]
    },
    {
      "cell_type": "markdown",
      "metadata": {
        "id": "GVU5PttyL6XK"
      },
      "source": [
        "Great! Now everything should be set up to make our first steps in neuroimaging analyis in Python!"
      ]
    },
    {
      "cell_type": "markdown",
      "metadata": {
        "id": "5-GYQz7CMtQ5"
      },
      "source": [
        "## Visualization with Nilearn\n",
        "\n",
        "Nilearn is a python module used for statisical learning on neuroimaging data. In addition to various statistical and machine-learning tools, it also allows for easy visualizing MRI data. Let's have a look!\n",
        "\n",
        "First of, we have to import the necessary libraries:\n",
        "\n",
        "\n"
      ]
    },
    {
      "cell_type": "code",
      "execution_count": null,
      "metadata": {
        "id": "_RFvFwvTMLvI"
      },
      "outputs": [],
      "source": [
        "%matplotlib inline\n",
        "from nilearn import plotting, datasets, image\n",
        "import numpy as np"
      ]
    },
    {
      "cell_type": "markdown",
      "source": [
        "(\"%matplotlib inline\" is a command only available for the Jupyter Notebook and the Jupyter QTConsole. It allows the output of plotting commands to be displayed inline with the notebook, directly below the code cell that produced it.)\n",
        "\n",
        "\n",
        "\n"
      ],
      "metadata": {
        "id": "tWYIA2Kz4rP8"
      }
    },
    {
      "cell_type": "markdown",
      "metadata": {
        "id": "dBJuA8e-NkpT"
      },
      "source": [
        "Now that we have imported the neccessary packages, we have to tell Python where to look for the data. In this notebook, we will use a snippet of an [Openneuro dataset](https://openneuro.org/datasets/ds000114/versions/1.0.1). If you have already run the first cell, the data should be located unter ```/data``` (you can have a look at the file browser on the left panel of google colab). As a next step, let's define a variable that points to the exact location of the subjects data"
      ]
    },
    {
      "cell_type": "code",
      "execution_count": null,
      "metadata": {
        "id": "2VXXFwVWNh9f"
      },
      "outputs": [],
      "source": [
        "subjects_dir = \"/data/ds000114/subjects/\""
      ]
    },
    {
      "cell_type": "markdown",
      "metadata": {
        "id": "LHl_xDKtPWW6"
      },
      "source": [
        "As you can see in the filebrowser, the data in organized in a certain structure. For example, for each subject there are two folders, ```anat``` and ```func``` - these are the locations of the anatomical and functional images, respectively. This corresponds to the [Brain Imaging Data Structure (BIDS)](https://bids.neuroimaging.io/) specification, a standard for organizing, annotating, and describing data collected during neuroimaging experiments. But more on that later.\n",
        "\n",
        "Let's have a quick look at the anatomical image. For that, we will use Nilearn's plotting module. Also, we will make use of a powerful string formatting mechanism: The [f-string](https://docs.python.org/3/reference/lexical_analysis.html#f-strings) (Note: f-strings require >Python 3.6)"
      ]
    },
    {
      "cell_type": "code",
      "execution_count": null,
      "metadata": {
        "id": "Zxo9WGxcPMnE"
      },
      "outputs": [],
      "source": [
        "subject = \"sub-01\"\n",
        "anat_img = f\"{subjects_dir}{subject}/ses-test/anat/{subject}_ses-test_T1w.nii.gz\"\n",
        "\n",
        "plotting.plot_anat(anat_img)"
      ]
    },
    {
      "cell_type": "markdown",
      "metadata": {
        "id": "y9LcM9iiQzeL"
      },
      "source": [
        "Great! As you've seen, plotting with nilearn is straightforward. But we can also modify the view by passing some parameters to the Nilearn function, e.g., the desired display mode or cut-coordinates. As for every Nilearn function, a full description of possible parameters can be found in the [documentation](https://nilearn.github.io/stable/modules/generated/nilearn.plotting.plot_anat.html) or directly in Colab by either using ```?``` or ```help()```.\n"
      ]
    },
    {
      "cell_type": "code",
      "execution_count": null,
      "metadata": {
        "id": "dns-eQVIa5QN"
      },
      "outputs": [],
      "source": [
        "?plotting.plot_anat"
      ]
    },
    {
      "cell_type": "code",
      "execution_count": null,
      "metadata": {
        "id": "tPp67q0wahp3"
      },
      "outputs": [],
      "source": [
        "help(plotting.plot_anat)"
      ]
    },
    {
      "cell_type": "markdown",
      "metadata": {
        "id": "lzjVfY-ucAV5"
      },
      "source": [
        "\n",
        "Let's tell Nilearn to plot 6 slices of the subjects anatomical image in axial direction"
      ]
    },
    {
      "cell_type": "code",
      "execution_count": null,
      "metadata": {
        "id": "PHuFIU5pQfaX"
      },
      "outputs": [],
      "source": [
        "plotting.plot_anat(anat_img,\n",
        "                   display_mode=\"z\",\n",
        "                   cut_coords=range(-35,35,10))"
      ]
    },
    {
      "cell_type": "markdown",
      "source": [
        "If you are new to Python and a function we use, such as range(), is new to you, don't worry! Again, help() might be able to help. Other helpful explanations can be found using google, e.g. https://www.geeksforgeeks.org/python-range-function/"
      ],
      "metadata": {
        "id": "ACJV2SyK9wkK"
      }
    },
    {
      "cell_type": "markdown",
      "metadata": {
        "id": "ZXOYofAfRlY_"
      },
      "source": [
        "Thanks to the BIDS specification, we can easily loop over the images of multiple subjects and get a quick look at each subject's brain.\n",
        "\n",
        "But first, a quick explanation on the f string:"
      ]
    },
    {
      "cell_type": "code",
      "source": [
        "# We have defined:\n",
        "\n",
        "print(subjects_dir)\n",
        "print(subject)\n",
        "\n",
        "\n",
        "# But how can we connect these, so we get the complete path to /data/ds000114/subjects/sub-01/ses-test/anat/sub-01_ses-test_T1w.nii.gz ?\n",
        "\n",
        "fstring_example = f\"{subjects_dir}{subject}/ses-test/anat/{subject}_ses-test_T1w.nii.gz\"\n",
        "print(fstring_example)\n"
      ],
      "metadata": {
        "id": "2U2Zy4HB_0vw"
      },
      "execution_count": null,
      "outputs": []
    },
    {
      "cell_type": "markdown",
      "source": [
        "Now, on to the loop:"
      ],
      "metadata": {
        "id": "RUHY-16FB9kj"
      }
    },
    {
      "cell_type": "code",
      "execution_count": null,
      "metadata": {
        "id": "BwJKVpmfRktO"
      },
      "outputs": [],
      "source": [
        "subject_list = [\"sub-01\", \"sub-02\", \"sub-03\"]\n",
        "\n",
        "for subject in subject_list:\n",
        "\n",
        "  anat_img = f\"{subjects_dir}{subject}/ses-test/anat/{subject}_ses-test_T1w.nii.gz\"\n",
        "  plotting.plot_anat(anat_img,\n",
        "                     display_mode=\"z\",\n",
        "                     cut_coords=range(-35,50,10),\n",
        "                     title=subject)"
      ]
    },
    {
      "cell_type": "markdown",
      "metadata": {
        "id": "IJPRqey9TvUB"
      },
      "source": [
        "There you go! As one can clearly, the brains of the subjects differ quite a bit. Likewise, these raw images are also not yet in a standard space. That is one reason why we need to perform some preprocessing of the data before we can get started with the actual analysis."
      ]
    },
    {
      "cell_type": "markdown",
      "metadata": {
        "id": "6RejAi8QHmVy"
      },
      "source": [
        "## Exercise\n",
        "\n",
        "Try to plot the functional image stored in the ```~/func``` directory.\n",
        "\n",
        "Tip: Use the Nilearn function ```mean_img``` from the ```image``` module we imported earlier. Use the path to the functional image as the only parameter to get the mean functional image. This is neccessary as a 3D image needs to be provided (more on that in the next session)."
      ]
    },
    {
      "cell_type": "markdown",
      "metadata": {
        "id": "MBLRA8PaHmVy"
      },
      "source": [
        "### Bonus exercise\n",
        "\n",
        "Refactor the code you have written above to a function that takes a file path to a functional image, calculates its mean image and then plots the result. Once you have created the function, create a loop and run the function for every participant.\n",
        "\n",
        "Tip: The function signature could look like this:\n",
        "\n",
        "\n",
        "```\n",
        "plot_mean_img(func_path, title)\n",
        "```\n",
        "\n"
      ]
    },
    {
      "cell_type": "markdown",
      "metadata": {
        "id": "j8vX11iWTNSD"
      },
      "source": [
        "## Resources\n",
        "\n",
        "[Google Colab Intro](https://colab.research.google.com/notebooks/intro.ipynb): Short Google intro showcasing Colab functionality\n",
        "\n",
        "[Colab Cheatsheet](https://colab.research.google.com/github/Tanu-N-Prabhu/Python/blob/master/Cheat_sheet_for_Google_Colab.ipynb): Showcase of some functions in Google Colab\n",
        "\n",
        "[UNIX for Neuroimagers](https://andysbrainbook.readthedocs.io/en/latest/unix/Unix_Intro.html): Several useful Unix tutorials created by neuroscientist Andrew Jahn\n",
        "\n",
        "[Unix/Linux commands cheatsheet](https://upload.wikimedia.org/wikipedia/commons/7/79/Unix_command_cheatsheet.pdf): Overview of different Unix-like shell commands and common procedures\n",
        "\n",
        "[Command Line tutorial](https://linuxjourney.com/lesson/the-shell): Tutorial on important shell commands\n",
        "\n",
        "[Filesystem Tutorial](https://linuxjourney.com/lesson/filesystem-hierarchy): Tutorial on the Linux filesystem\n",
        "\n",
        "[The Good Research Code Handbook](https://goodresearch.dev/index.html): Handbook focussing on good programming practice for research\n",
        "\n",
        "[Nilearn Documentation](https://nilearn.github.io/stable/index.html): Offical Nilearn documentation. Hear you can find different examples and user guides as well as details to all Nilearn modules\n",
        "\n",
        "[Neurostars](https://neurostars.org): Q/A forum for neuroscience research"
      ]
    }
  ]
}